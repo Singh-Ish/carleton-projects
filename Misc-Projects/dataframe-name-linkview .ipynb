{
 "cells": [
  {
   "cell_type": "code",
   "execution_count": 19,
   "metadata": {},
   "outputs": [],
   "source": [
    "import pandas as pd \n",
    "from IPython.display import HTML"
   ]
  },
  {
   "cell_type": "code",
   "execution_count": 20,
   "metadata": {},
   "outputs": [
    {
     "name": "stdout",
     "output_type": "stream",
     "text": [
      "            name                       url\n",
      "0         Google     http://www.google.com\n",
      "1  Stackoverflow  http://stackoverflow.com\n"
     ]
    }
   ],
   "source": [
    "data = [dict(name='Google', url='http://www.google.com'),\n",
    "        dict(name='Stackoverflow', url='http://stackoverflow.com')]\n",
    "df = pd.DataFrame(data)\n",
    "print(df)"
   ]
  },
  {
   "cell_type": "code",
   "execution_count": 21,
   "metadata": {},
   "outputs": [],
   "source": [
    "def make_clickable(link):\n",
    "    # target _blank to open new window\n",
    "    # extract clickable text to display for your link\n",
    "    text = link.split('=')[1]\n",
    "    return f'<a target=\"_blank\" href=\"{link}\">{text}</a>'\n",
    "\n"
   ]
  },
  {
   "cell_type": "code",
   "execution_count": 22,
   "metadata": {},
   "outputs": [],
   "source": [
    "def make_clickable(url, name):\n",
    "    return '<a href=\"{} rel=\"noopener noreferrer\" target=\"_blank\">{}</a>'.format(url,name)\n",
    "\n",
    "df['name'] = df.apply(lambda x: make_clickable(x['url'], x['name']), axis=1)"
   ]
  },
  {
   "cell_type": "code",
   "execution_count": 24,
   "metadata": {},
   "outputs": [
    {
     "data": {
      "text/html": [
       "<div>\n",
       "<style scoped>\n",
       "    .dataframe tbody tr th:only-of-type {\n",
       "        vertical-align: middle;\n",
       "    }\n",
       "\n",
       "    .dataframe tbody tr th {\n",
       "        vertical-align: top;\n",
       "    }\n",
       "\n",
       "    .dataframe thead th {\n",
       "        text-align: right;\n",
       "    }\n",
       "</style>\n",
       "<table border=\"1\" class=\"dataframe\">\n",
       "  <thead>\n",
       "    <tr style=\"text-align: right;\">\n",
       "      <th></th>\n",
       "      <th>name</th>\n",
       "      <th>url</th>\n",
       "    </tr>\n",
       "  </thead>\n",
       "  <tbody>\n",
       "    <tr>\n",
       "      <th>0</th>\n",
       "      <td>&lt;a href=\"http://www.google.com rel=\"noopener n...</td>\n",
       "      <td>http://www.google.com</td>\n",
       "    </tr>\n",
       "    <tr>\n",
       "      <th>1</th>\n",
       "      <td>&lt;a href=\"http://stackoverflow.com rel=\"noopene...</td>\n",
       "      <td>http://stackoverflow.com</td>\n",
       "    </tr>\n",
       "  </tbody>\n",
       "</table>\n",
       "</div>"
      ],
      "text/plain": [
       "                                                name                       url\n",
       "0  <a href=\"http://www.google.com rel=\"noopener n...     http://www.google.com\n",
       "1  <a href=\"http://stackoverflow.com rel=\"noopene...  http://stackoverflow.com"
      ]
     },
     "execution_count": 24,
     "metadata": {},
     "output_type": "execute_result"
    }
   ],
   "source": [
    "df"
   ]
  },
  {
   "cell_type": "code",
   "execution_count": 18,
   "metadata": {},
   "outputs": [
    {
     "data": {
      "text/plain": [
       "'<table border=\"1\" class=\"dataframe\">\\n  <thead>\\n    <tr style=\"text-align: right;\">\\n      <th></th>\\n      <th>name</th>\\n      <th>url</th>\\n    </tr>\\n  </thead>\\n  <tbody>\\n    <tr>\\n      <th>0</th>\\n      <td><a href=\"http://www.google.com rel=\"noopener noreferrer\" target=\"_blank\">Google</a></td>\\n      <td>http://www.google.com</td>\\n    </tr>\\n    <tr>\\n      <th>1</th>\\n      <td><a href=\"http://stackoverflow.com rel=\"noopener noreferrer\" target=\"_blank\">Stackoverflow</a></td>\\n      <td>http://stackoverflow.com</td>\\n    </tr>\\n  </tbody>\\n</table>'"
      ]
     },
     "execution_count": 18,
     "metadata": {},
     "output_type": "execute_result"
    }
   ],
   "source": [
    "df.to_html(escape=False)"
   ]
  },
  {
   "cell_type": "code",
   "execution_count": null,
   "metadata": {},
   "outputs": [],
   "source": []
  }
 ],
 "metadata": {
  "kernelspec": {
   "display_name": "Python 3",
   "language": "python",
   "name": "python3"
  },
  "language_info": {
   "codemirror_mode": {
    "name": "ipython",
    "version": 3
   },
   "file_extension": ".py",
   "mimetype": "text/x-python",
   "name": "python",
   "nbconvert_exporter": "python",
   "pygments_lexer": "ipython3",
   "version": "3.8.3"
  }
 },
 "nbformat": 4,
 "nbformat_minor": 4
}
